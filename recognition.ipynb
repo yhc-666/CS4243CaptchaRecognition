{
  "cells": [
    {
      "cell_type": "markdown",
      "metadata": {
        "id": "view-in-github",
        "colab_type": "text"
      },
      "source": [
        "<a href=\"https://colab.research.google.com/github/yhc-666/CS4243CaptchaRecognition/blob/master/recognition.ipynb\" target=\"_parent\"><img src=\"https://colab.research.google.com/assets/colab-badge.svg\" alt=\"Open In Colab\"/></a>"
      ]
    },
    {
      "cell_type": "code",
      "execution_count": null,
      "id": "f547e828-8684-4b27-b01a-9146f5fda3c3",
      "metadata": {
        "tags": [],
        "id": "f547e828-8684-4b27-b01a-9146f5fda3c3"
      },
      "outputs": [],
      "source": [
        "import os\n",
        "import cv2\n",
        "import torch\n",
        "import torch.nn as nn\n",
        "import numpy as np\n",
        "from torch.utils.data import Dataset, DataLoader\n",
        "from torchvision import transforms\n",
        "from torch.nn.utils.rnn import pad_sequence\n",
        "from torchvision import transforms, models\n",
        "from PIL import Image\n",
        "import matplotlib.pyplot as plt\n"
      ]
    },
    {
      "cell_type": "code",
      "source": [
        "from google.colab.patches import cv2_imshow"
      ],
      "metadata": {
        "id": "dJrJ181bYCWw"
      },
      "id": "dJrJ181bYCWw",
      "execution_count": null,
      "outputs": []
    },
    {
      "cell_type": "code",
      "source": [
        "from google.colab import drive\n",
        "drive.mount('/content/drive')"
      ],
      "metadata": {
        "colab": {
          "base_uri": "https://localhost:8080/"
        },
        "id": "kNakXrL8y7OY",
        "outputId": "91a71afa-9caa-4433-af03-3a88b3162fe1"
      },
      "id": "kNakXrL8y7OY",
      "execution_count": null,
      "outputs": [
        {
          "output_type": "stream",
          "name": "stdout",
          "text": [
            "Mounted at /content/drive\n"
          ]
        }
      ]
    },
    {
      "cell_type": "code",
      "source": [
        "# 设置压缩文件路径和解压目标路径\n",
        "zip_file_path = '/content/drive/MyDrive/CS4243/data.zip'  # 替换为您的压缩文件路径\n",
        "extract_to_path = '/content/drive/MyDrive/CS4243/data'"
      ],
      "metadata": {
        "id": "r28Uxhh6mhn6"
      },
      "id": "r28Uxhh6mhn6",
      "execution_count": null,
      "outputs": []
    },
    {
      "cell_type": "code",
      "source": [
        "import zipfile\n",
        "with zipfile.ZipFile(zip_file_path, 'r') as zip_ref:\n",
        "    zip_ref.extractall(extract_to_path)"
      ],
      "metadata": {
        "id": "d6FMJJD3m6-p"
      },
      "id": "d6FMJJD3m6-p",
      "execution_count": null,
      "outputs": []
    },
    {
      "cell_type": "code",
      "source": [
        "from tqdm import tqdm"
      ],
      "metadata": {
        "id": "7LMgf8zCbNmp"
      },
      "id": "7LMgf8zCbNmp",
      "execution_count": null,
      "outputs": []
    },
    {
      "cell_type": "markdown",
      "source": [
        "### DataPrepare and Augmentation"
      ],
      "metadata": {
        "id": "rjJ7taedFVOT"
      },
      "id": "rjJ7taedFVOT"
    },
    {
      "cell_type": "code",
      "execution_count": null,
      "id": "bcb05d49-52c2-4128-8ff4-77216ffab220",
      "metadata": {
        "tags": [],
        "id": "bcb05d49-52c2-4128-8ff4-77216ffab220"
      },
      "outputs": [],
      "source": [
        "class Segmenter:\n",
        "    def segment_chars(self, img_path: str, plot=False) -> list:\n",
        "        # 返回的是一个包含分割后字符图像及其标签的列表，每个元素为一个元组 (char_img, label)\n",
        "        image = cv2.imread(img_path)\n",
        "        origin = image.copy()\n",
        "        if plot:\n",
        "            cv2_imshow(origin)\n",
        "\n",
        "        # 转换为灰度图像，以便更容易识别黑色区域\n",
        "        gray = cv2.cvtColor(image, cv2.COLOR_BGR2GRAY)\n",
        "\n",
        "        # 定义黑色的阈值范围，生成掩码\n",
        "        lower_black = 0       # 黑色的下限\n",
        "        upper_black = 10      # 上限（根据图像的黑线深浅调整）\n",
        "        mask = cv2.inRange(gray, lower_black, upper_black)\n",
        "\n",
        "        # 定义掩码的卷积核，用于形态学操作\n",
        "        kernel = cv2.getStructuringElement(cv2.MORPH_RECT, (3, 3))\n",
        "\n",
        "        # 通过形态学操作去除噪声并清理边缘\n",
        "        mask_cleaned = cv2.morphologyEx(mask, cv2.MORPH_CLOSE, kernel)\n",
        "\n",
        "        # 使用 inpaint 函数，根据周围的非黑色像素填充黑线区域\n",
        "        # inpaint 需要三通道图像，因此直接使用 BGR 格式的原始图像\n",
        "        # 第三个参数为填充半径\n",
        "        image = cv2.inpaint(image, mask_cleaned, 3, cv2.INPAINT_TELEA)\n",
        "\n",
        "        if plot:\n",
        "            cv2_imshow(image)\n",
        "\n",
        "        img = image\n",
        "        # 转换为灰度图像\n",
        "        img_gray = cv2.cvtColor(image, cv2.COLOR_BGR2GRAY)\n",
        "\n",
        "        # 使用自适应阈值进行二值化，以适应不同亮度\n",
        "        thresh = cv2.adaptiveThreshold(\n",
        "            img_gray, 255,\n",
        "            cv2.ADAPTIVE_THRESH_GAUSSIAN_C,\n",
        "            cv2.THRESH_BINARY_INV,\n",
        "            11, 2\n",
        "        )\n",
        "\n",
        "        # 使用形态学闭操作清理噪声并填补字符间隙\n",
        "        kernel = cv2.getStructuringElement(cv2.MORPH_RECT, (3, 3))\n",
        "        thresh = cv2.morphologyEx(thresh, cv2.MORPH_CLOSE, kernel)\n",
        "\n",
        "        # 查找轮廓\n",
        "        contours, _ = cv2.findContours(thresh, cv2.RETR_EXTERNAL, cv2.CHAIN_APPROX_SIMPLE)\n",
        "\n",
        "        # 获取文件名中的字符标签\n",
        "        labels = [char for char in os.path.basename(img_path).split('-')[0]]\n",
        "\n",
        "        # 筛选符合字符大小的轮廓，避免噪声\n",
        "        char_contours = []\n",
        "        for contour in contours:\n",
        "            x, y, w, h = cv2.boundingRect(contour)\n",
        "            aspect_ratio = h / float(w)\n",
        "            if 0.2 < aspect_ratio < 10 and 5 < w < 100:  # 依据宽高比和尺寸过滤字符轮廓\n",
        "                char_contours.append((x, y, w, h))\n",
        "\n",
        "        # 按水平方向排序，保证字符顺序\n",
        "        char_contours = sorted(char_contours, key=lambda x: x[0])\n",
        "\n",
        "        # 如果轮廓数量少于标签数量，用空白图像补全\n",
        "        segmented_chars = []\n",
        "        for i, label in enumerate(labels):\n",
        "            if i < len(char_contours):\n",
        "                # 获取字符区域\n",
        "                x, y, w, h = char_contours[i]\n",
        "\n",
        "                # 略微扩大字符边界框\n",
        "                x = max(x - 1, 0)\n",
        "                y = max(y - 1, 0)\n",
        "                w = min(w + 2, image.shape[1] - x)\n",
        "                h = min(h + 2, image.shape[0] - y)\n",
        "\n",
        "                char_img = image[y:y+h, x:x+w]\n",
        "            else:\n",
        "                # 填充空白图像\n",
        "                char_img = np.ones((15, 12, 3), dtype=np.uint8) * 255  # 假设字符大小为 15x12\n",
        "\n",
        "            segmented_chars.append((char_img, label))\n",
        "\n",
        "        # 可视化分割结果\n",
        "        if plot:\n",
        "            self.plot_segmented_chars(origin, segmented_chars)\n",
        "\n",
        "        return segmented_chars\n",
        "\n",
        "\n",
        "    def plot_segmented_chars(self, img, segmented_chars):\n",
        "        # 动态调整 width_ratios 以适应 segmented_chars 的数量\n",
        "        width_ratios = [1] * len(segmented_chars)\n",
        "        fig, axes = plt.subplots(1, len(segmented_chars), figsize=(12, 2), gridspec_kw={'width_ratios': width_ratios})\n",
        "\n",
        "        # 如果只有一个字符，axes 不是列表，将其包装为列表\n",
        "        if len(segmented_chars) == 1:\n",
        "            axes = [axes]\n",
        "\n",
        "        # 显示每个字符的图像\n",
        "        for i, (char_img, label) in enumerate(segmented_chars):\n",
        "            axes[i].imshow(char_img.squeeze(), cmap='gray')\n",
        "            axes[i].set_title(label)  # 显示字符标签作为标题\n",
        "\n",
        "        plt.tight_layout()\n",
        "        plt.show()"
      ]
    },
    {
      "cell_type": "code",
      "execution_count": null,
      "id": "5d956f7a-3bff-4cf9-9e58-2c8cb0f37076",
      "metadata": {
        "tags": [],
        "id": "5d956f7a-3bff-4cf9-9e58-2c8cb0f37076"
      },
      "outputs": [],
      "source": [
        "class CaptchaDataset(Dataset):\n",
        "    def __init__(self, image_dir, transform=None):\n",
        "        self.image_dir = image_dir\n",
        "        self.image_paths = [os.path.join(image_dir, file) for file in os.listdir(image_dir) if file.endswith('.png')]\n",
        "        self.transform = transform\n",
        "        self.label_index = {}\n",
        "        self.seg = Segmenter()\n",
        "        char_set = 'abcdefghijklmnopqrstuvwxyz0123456789'\n",
        "        for i in range(len(char_set)):\n",
        "            self.label_index[char_set[i]] = i\n",
        "\n",
        "    def __len__(self):\n",
        "        return len(self.image_paths)\n",
        "\n",
        "    def __getitem__(self, idx):\n",
        "        \"\"\"\n",
        "        获取指定索引处的数据样本，包括验证码图片的分割字符图像和对应的标签索引。\n",
        "\n",
        "        参数:\n",
        "        idx (int): 数据集中的索引，用于定位特定图片文件。\n",
        "\n",
        "        返回:\n",
        "        tuple:\n",
        "            - processed_segments (list of torch.Tensor): 包含分割后的字符图像张量列表，\n",
        "            每个字符图像张量的形状为 `(C, H, W)`，其中 `C` 是通道数（通常为 1），`H` 和 `W` 分别是字符图像的高度和宽度。\n",
        "            - torch.LongTensor(label_indices): 包含字符标签索引的 1D 张量，形状为 `(num_chars, )`，\n",
        "            其中 `num_chars` 是该验证码图片中的字符数，与 `processed_segments` 的长度相同。\n",
        "\n",
        "        例外情况:\n",
        "        如果分割失败或没有找到字符，返回 None。\n",
        "        \"\"\"\n",
        "        # 获取当前索引处的图片文件路径\n",
        "        image_path = self.image_paths[idx]\n",
        "\n",
        "        # 从文件名中提取标签字符，例如对于 \"abcd-0.png\" 提取 \"abcd\"\n",
        "        label = os.path.basename(image_path).split(\"-\")[0]\n",
        "\n",
        "        # 将标签字符转换为标签索引列表（整数形式）\n",
        "        # 例如，将 \"abcd\" 转换为 [0, 1, 2, 3] 这样的索引列表\n",
        "        label_indices = [self.label_index[l] for l in label]\n",
        "\n",
        "        # 使用 Segmenter 类对当前图片进行字符分割\n",
        "        # 返回的 segments 包含了每个字符的图像和对应的标签\n",
        "        segments = self.seg.segment_chars(image_path)\n",
        "\n",
        "        # 如果分割失败（没有找到字符），返回 None 表示当前样本无效\n",
        "        if not segments:\n",
        "            return\n",
        "\n",
        "        # 初始化用于存储处理后的字符图像的列表\n",
        "        processed_segments = []\n",
        "\n",
        "        # 遍历分割出的字符图像\n",
        "        for segment in segments:\n",
        "            # 如果指定了图像变换，则对字符图像进行变换处理\n",
        "            if self.transform:\n",
        "                padded_segment = self.transform(Image.fromarray(segment[0]))  # 转换后的 shape 为 (C, H, W)\n",
        "\n",
        "            # 将处理后的字符图像添加到列表中\n",
        "            processed_segments.append(padded_segment)\n",
        "\n",
        "        # 如果处理后的字符图像数量超过了标签数量（可能由于多余的噪声等原因），\n",
        "        # 则截取至与标签数量一致\n",
        "        if len(processed_segments) > len(label_indices):\n",
        "            return processed_segments[:len(label_indices)], torch.LongTensor(label_indices)\n",
        "\n",
        "        # 否则直接返回字符图像和对应的标签张量\n",
        "        else:\n",
        "            return processed_segments, torch.LongTensor(label_indices[:len(processed_segments)])\n"
      ]
    },
    {
      "cell_type": "code",
      "execution_count": null,
      "id": "eaa9f5fe-7a36-4b0e-a2d5-05b2a40ce3ea",
      "metadata": {
        "tags": [],
        "id": "eaa9f5fe-7a36-4b0e-a2d5-05b2a40ce3ea"
      },
      "outputs": [],
      "source": [
        "def collate_fn(batch):\n",
        "    \"\"\"\n",
        "    用于在批量加载时处理验证码数据集的聚合函数。将批量样本中的字符图像和标签展平成单一张量，确保在不同字符数量时的批处理兼容性。\n",
        "\n",
        "    参数:\n",
        "    batch (list): 每个元素都是一个包含字符图像列表和标签张量的元组。\n",
        "                  例如， [(processed_segments1, labels1), (processed_segments2, labels2), ...]\n",
        "\n",
        "    返回:\n",
        "    tuple:\n",
        "        - padded_images (torch.Tensor): 展平后的字符图像张量，形状为 `(total_chars, C, H, W)`，\n",
        "          `total_chars` 是所有样本中字符图像的总数量，`C` 是通道数，`H` 和 `W` 是图像高度和宽度。\n",
        "        - padded_labels (torch.LongTensor): 展平后的标签张量，形状为 `(total_chars, )`，\n",
        "          包含所有字符图像对应的标签。\n",
        "\n",
        "    例外情况:\n",
        "    如果批量中的所有样本都是无效样本 (None)，返回 `(None, None)`。\n",
        "    \"\"\"\n",
        "    # 过滤掉无效样本（None），以确保批处理中不包含空样本\n",
        "    batch = [item for item in batch if item is not None]\n",
        "    if not batch:\n",
        "        return None, None\n",
        "\n",
        "    # 将所有字符图像和标签分别提取到两个列表中\n",
        "    batch_images, batch_labels = zip(*batch)\n",
        "\n",
        "    # 初始化空列表，用于存储展平后的字符图像和标签\n",
        "    all_images = []\n",
        "    all_label = []\n",
        "\n",
        "    # 遍历每个样本的字符图像和标签\n",
        "    for images in batch_images:\n",
        "        for image in images:\n",
        "            all_images.append(image)  # 将每个字符图像添加到展平列表\n",
        "\n",
        "    for labels in batch_labels:\n",
        "        for label in labels:\n",
        "            all_label.append(label)  # 将每个字符的标签添加到展平列表\n",
        "\n",
        "    # 将字符图像列表转换为张量，并组合为一个批量张量\n",
        "    # 结果张量形状为 (total_chars, C, H, W)，其中 total_chars 是批量中所有字符的总数\n",
        "    padded_images = torch.stack(all_images)\n",
        "\n",
        "    # 将标签列表转换为张量，形成展平的标签张量，形状为 (total_chars, )\n",
        "    padded_labels = torch.stack(all_label)\n",
        "\n",
        "    # 返回展平后的字符图像张量和标签张量\n",
        "    return padded_images, padded_labels\n"
      ]
    },
    {
      "cell_type": "code",
      "source": [
        "transform_train = transforms.Compose([\n",
        "            transforms.Grayscale(), # 3-band to 1-band\n",
        "            transforms.Resize((30, 24)), # average size of each char image\n",
        "            transforms.RandomRotation(degrees=(-25, 25)),\n",
        "            transforms.ToTensor(),\n",
        "            transforms.Normalize((0.5,), (0.5,))\n",
        "        ])"
      ],
      "metadata": {
        "id": "vai3ZTpy1685"
      },
      "id": "vai3ZTpy1685",
      "execution_count": null,
      "outputs": []
    },
    {
      "cell_type": "code",
      "source": [
        "transform_test = transforms.Compose([\n",
        "            transforms.Grayscale(), # 3-band to 1-band\n",
        "            transforms.Resize((30, 24)), # average size of each char image\n",
        "            transforms.ToTensor(),\n",
        "            transforms.Normalize((0.5,), (0.5,))\n",
        "        ])"
      ],
      "metadata": {
        "id": "OXv9XIMgHyY2"
      },
      "id": "OXv9XIMgHyY2",
      "execution_count": null,
      "outputs": []
    },
    {
      "cell_type": "markdown",
      "source": [
        "### Create DL model"
      ],
      "metadata": {
        "id": "cfIqPl2jFg84"
      },
      "id": "cfIqPl2jFg84"
    },
    {
      "cell_type": "code",
      "execution_count": null,
      "id": "bab87b0e-e358-44fc-bd47-9b84da7839da",
      "metadata": {
        "tags": [],
        "id": "bab87b0e-e358-44fc-bd47-9b84da7839da"
      },
      "outputs": [],
      "source": [
        "class ResNetForCaptcha(nn.Module):\n",
        "    def __init__(self, num_classes):\n",
        "        super(ResNetForCaptcha, self).__init__()\n",
        "        self.model = models.resnet18(pretrained=True)\n",
        "        self.model.conv1 = nn.Conv2d(1, 64, kernel_size=7, stride=2, padding=3, bias=False)\n",
        "        self.model.fc = torch.nn.Sequential(\n",
        "            torch.nn.Linear(512, 64),\n",
        "            torch.nn.ReLU(inplace=True),\n",
        "            torch.nn.Linear(64, num_classes),\n",
        "        )\n",
        "\n",
        "    def forward(self, x):\n",
        "        return self.model(x)"
      ]
    },
    {
      "cell_type": "markdown",
      "source": [
        "### train DL model"
      ],
      "metadata": {
        "id": "o98Z6y_618wT"
      },
      "id": "o98Z6y_618wT"
    },
    {
      "cell_type": "code",
      "execution_count": null,
      "id": "8e1b4fa9-43d4-4ea1-a176-21a73943a644",
      "metadata": {
        "tags": [],
        "id": "8e1b4fa9-43d4-4ea1-a176-21a73943a644"
      },
      "outputs": [],
      "source": [
        "# 创建训练集和测试集的 CaptchaDataset 实例\n",
        "train_dataset = CaptchaDataset(image_dir='/content/drive/MyDrive/CS4243/data/train', transform=transform_train)\n",
        "test_dataset = CaptchaDataset(image_dir='/content/drive/MyDrive/CS4243/data/test', transform=transform_test)\n",
        "\n",
        "# 创建 DataLoader\n",
        "train_dataloader = DataLoader(train_dataset, batch_size=64, shuffle=True, collate_fn=collate_fn)\n",
        "test_dataloader = DataLoader(test_dataset, batch_size=64, shuffle=False, collate_fn=collate_fn)"
      ]
    },
    {
      "cell_type": "code",
      "source": [
        "device = torch.device(\"cuda\")\n",
        "model = ResNetForCaptcha(num_classes=len('abcdefghijklmnopqrstuvwxyz0123456789')).to(device)\n",
        "\n",
        "criterion = nn.CrossEntropyLoss(ignore_index=-1)\n",
        "optimizer = torch.optim.Adam(model.parameters(), lr=1e-4)\n",
        "\n",
        "def evaluate(model, dataloader, criterion, device):\n",
        "    model.eval()\n",
        "    running_loss = 0.0\n",
        "    with torch.no_grad():\n",
        "        for batch in tqdm(dataloader, desc=\"Evaluating\", ncols=100):\n",
        "            if batch[0] is None:\n",
        "                continue\n",
        "            batch_images, batch_labels = batch\n",
        "            batch_labels = batch_labels.to(device)\n",
        "\n",
        "            outputs = model(batch_images.to(device))\n",
        "            batch_labels = batch_labels.view(-1)\n",
        "            loss = criterion(outputs, batch_labels[batch_labels != -1])\n",
        "            running_loss += loss.item()\n",
        "\n",
        "    return running_loss / len(dataloader)\n",
        "\n",
        "def train_model(model, train_dataloader, test_dataloader, criterion, optimizer, num_epochs, device):\n",
        "    train_loss_history = []\n",
        "    test_loss_history = []\n",
        "\n",
        "    for epoch in range(num_epochs):\n",
        "        model.train()\n",
        "        running_loss = 0.0\n",
        "        \"\"\"\n",
        "        迭代DataLoader：\n",
        "        当开始遍历 DataLoader（例如 for batch in dataloader）时，DataLoader 会自动分批从 Dataset 中提取数据。\n",
        "        获取样本：\n",
        "        对于每一个 batch，DataLoader 会根据 batch_size 的大小，按索引调用 Dataset 的 __getitem__ 方法。\n",
        "        如果 batch_size=64，DataLoader 就会调用 64 次 __getitem__ 方法来获取 64 个样本的 item，并将这些样本放入一个 batch 中。\n",
        "        组合成批次：\n",
        "        调用 __getitem__ 得到的 64 个样本会被 DataLoader 组合在一起，通常是通过 collate_fn 方法（默认为 default_collate）来合并。\n",
        "        组合后的 batch 是一个包含 batch_size 个样本的数据块，通常是一个包含图像张量和标签张量的元组，形状为 (batch_size, C, H, W)（图像）和 (batch_size,)（标签）。\n",
        "\n",
        "        \"\"\"\n",
        "\n",
        "        for batch in tqdm(train_dataloader, desc=f'Epoch {epoch + 1}/{num_epochs}', ncols=100):\n",
        "            if batch[0] is None:\n",
        "                continue\n",
        "            batch_images, batch_labels = batch\n",
        "            batch_labels = batch_labels.to(device)\n",
        "            optimizer.zero_grad()\n",
        "\n",
        "            outputs = model(batch_images.to(device))\n",
        "            batch_labels = batch_labels.view(-1)\n",
        "            loss = criterion(outputs, batch_labels[batch_labels != -1])\n",
        "\n",
        "            loss.backward()\n",
        "            optimizer.step()\n",
        "\n",
        "            running_loss += loss.item()\n",
        "\n",
        "        # 计算并记录训练集和测试集的平均损失\n",
        "        train_epoch_loss = running_loss / len(train_dataloader)\n",
        "        test_epoch_loss = evaluate(model, test_dataloader, criterion, device)\n",
        "\n",
        "        train_loss_history.append(train_epoch_loss)\n",
        "        test_loss_history.append(test_epoch_loss)\n",
        "\n",
        "        print(f'Epoch [{epoch + 1}/{num_epochs}], Train Loss: {train_epoch_loss:.4f}, Test Loss: {test_epoch_loss:.4f}')\n",
        "\n",
        "    # 返回训练和测试损失的历史数据\n",
        "    return train_loss_history, test_loss_history"
      ],
      "metadata": {
        "colab": {
          "base_uri": "https://localhost:8080/"
        },
        "id": "hxyVo9sx6b3H",
        "outputId": "aa14396f-d950-4f59-b7de-8a0529bd044c"
      },
      "id": "hxyVo9sx6b3H",
      "execution_count": null,
      "outputs": [
        {
          "output_type": "stream",
          "name": "stderr",
          "text": [
            "/usr/local/lib/python3.10/dist-packages/torchvision/models/_utils.py:208: UserWarning: The parameter 'pretrained' is deprecated since 0.13 and may be removed in the future, please use 'weights' instead.\n",
            "  warnings.warn(\n",
            "/usr/local/lib/python3.10/dist-packages/torchvision/models/_utils.py:223: UserWarning: Arguments other than a weight enum or `None` for 'weights' are deprecated since 0.13 and may be removed in the future. The current behavior is equivalent to passing `weights=ResNet18_Weights.IMAGENET1K_V1`. You can also use `weights=ResNet18_Weights.DEFAULT` to get the most up-to-date weights.\n",
            "  warnings.warn(msg)\n",
            "Downloading: \"https://download.pytorch.org/models/resnet18-f37072fd.pth\" to /root/.cache/torch/hub/checkpoints/resnet18-f37072fd.pth\n",
            "100%|██████████| 44.7M/44.7M [00:00<00:00, 193MB/s]\n"
          ]
        }
      ]
    },
    {
      "cell_type": "code",
      "source": [
        "# 调用训练函数并获取损失历史数据\n",
        "train_loss_history, test_loss_history = train_model(\n",
        "    model, train_dataloader, test_dataloader, criterion, optimizer, num_epochs=20, device=device\n",
        ")\n",
        "\n",
        "# 绘制损失曲线\n",
        "plt.figure(figsize=(10, 6))\n",
        "plt.plot(range(1, len(train_loss_history) + 1), train_loss_history, marker='o', label='Train Loss')\n",
        "plt.plot(range(1, len(test_loss_history) + 1), test_loss_history, marker='o', label='Test Loss')\n",
        "plt.xlabel('Epoch')\n",
        "plt.ylabel('Loss')\n",
        "plt.title('Train and Test Loss Curve')\n",
        "plt.legend()\n",
        "plt.grid()\n",
        "plt.show()"
      ],
      "metadata": {
        "colab": {
          "base_uri": "https://localhost:8080/",
          "height": 1000
        },
        "id": "EkLyYsN33iCk",
        "outputId": "0db8909f-f371-4309-9d29-3b33ef8d5d91"
      },
      "id": "EkLyYsN33iCk",
      "execution_count": null,
      "outputs": [
        {
          "output_type": "stream",
          "name": "stderr",
          "text": [
            "Epoch 1/20: 100%|█████████████████████████████████████████████████| 100/100 [03:14<00:00,  1.95s/it]\n",
            "Evaluating: 100%|███████████████████████████████████████████████████| 24/24 [08:00<00:00, 20.03s/it]\n"
          ]
        },
        {
          "output_type": "stream",
          "name": "stdout",
          "text": [
            "Epoch [1/20], Train Loss: 3.3874, Test Loss: 3.0018\n"
          ]
        },
        {
          "output_type": "stream",
          "name": "stderr",
          "text": [
            "Epoch 2/20: 100%|█████████████████████████████████████████████████| 100/100 [01:17<00:00,  1.29it/s]\n",
            "Evaluating: 100%|███████████████████████████████████████████████████| 24/24 [00:15<00:00,  1.57it/s]\n"
          ]
        },
        {
          "output_type": "stream",
          "name": "stdout",
          "text": [
            "Epoch [2/20], Train Loss: 2.4792, Test Loss: 1.9442\n"
          ]
        },
        {
          "output_type": "stream",
          "name": "stderr",
          "text": [
            "Epoch 3/20: 100%|█████████████████████████████████████████████████| 100/100 [01:16<00:00,  1.31it/s]\n",
            "Evaluating: 100%|███████████████████████████████████████████████████| 24/24 [00:14<00:00,  1.63it/s]\n"
          ]
        },
        {
          "output_type": "stream",
          "name": "stdout",
          "text": [
            "Epoch [3/20], Train Loss: 1.8625, Test Loss: 1.5609\n"
          ]
        },
        {
          "output_type": "stream",
          "name": "stderr",
          "text": [
            "Epoch 4/20: 100%|█████████████████████████████████████████████████| 100/100 [01:15<00:00,  1.32it/s]\n",
            "Evaluating: 100%|███████████████████████████████████████████████████| 24/24 [00:14<00:00,  1.61it/s]\n"
          ]
        },
        {
          "output_type": "stream",
          "name": "stdout",
          "text": [
            "Epoch [4/20], Train Loss: 1.6027, Test Loss: 1.3975\n"
          ]
        },
        {
          "output_type": "stream",
          "name": "stderr",
          "text": [
            "Epoch 5/20: 100%|█████████████████████████████████████████████████| 100/100 [01:16<00:00,  1.31it/s]\n",
            "Evaluating: 100%|███████████████████████████████████████████████████| 24/24 [00:14<00:00,  1.61it/s]\n"
          ]
        },
        {
          "output_type": "stream",
          "name": "stdout",
          "text": [
            "Epoch [5/20], Train Loss: 1.4616, Test Loss: 1.3191\n"
          ]
        },
        {
          "output_type": "stream",
          "name": "stderr",
          "text": [
            "Epoch 6/20: 100%|█████████████████████████████████████████████████| 100/100 [01:15<00:00,  1.32it/s]\n",
            "Evaluating: 100%|███████████████████████████████████████████████████| 24/24 [00:14<00:00,  1.64it/s]\n"
          ]
        },
        {
          "output_type": "stream",
          "name": "stdout",
          "text": [
            "Epoch [6/20], Train Loss: 1.3653, Test Loss: 1.2464\n"
          ]
        },
        {
          "output_type": "stream",
          "name": "stderr",
          "text": [
            "Epoch 7/20: 100%|█████████████████████████████████████████████████| 100/100 [01:15<00:00,  1.33it/s]\n",
            "Evaluating: 100%|███████████████████████████████████████████████████| 24/24 [00:14<00:00,  1.63it/s]\n"
          ]
        },
        {
          "output_type": "stream",
          "name": "stdout",
          "text": [
            "Epoch [7/20], Train Loss: 1.2880, Test Loss: 1.2027\n"
          ]
        },
        {
          "output_type": "stream",
          "name": "stderr",
          "text": [
            "Epoch 8/20: 100%|█████████████████████████████████████████████████| 100/100 [01:14<00:00,  1.34it/s]\n",
            "Evaluating: 100%|███████████████████████████████████████████████████| 24/24 [00:14<00:00,  1.63it/s]\n"
          ]
        },
        {
          "output_type": "stream",
          "name": "stdout",
          "text": [
            "Epoch [8/20], Train Loss: 1.2357, Test Loss: 1.1671\n"
          ]
        },
        {
          "output_type": "stream",
          "name": "stderr",
          "text": [
            "Epoch 9/20: 100%|█████████████████████████████████████████████████| 100/100 [01:15<00:00,  1.33it/s]\n",
            "Evaluating: 100%|███████████████████████████████████████████████████| 24/24 [00:14<00:00,  1.65it/s]\n"
          ]
        },
        {
          "output_type": "stream",
          "name": "stdout",
          "text": [
            "Epoch [9/20], Train Loss: 1.1799, Test Loss: 1.1360\n"
          ]
        },
        {
          "output_type": "stream",
          "name": "stderr",
          "text": [
            "Epoch 10/20: 100%|████████████████████████████████████████████████| 100/100 [01:14<00:00,  1.33it/s]\n",
            "Evaluating: 100%|███████████████████████████████████████████████████| 24/24 [00:15<00:00,  1.57it/s]\n"
          ]
        },
        {
          "output_type": "stream",
          "name": "stdout",
          "text": [
            "Epoch [10/20], Train Loss: 1.1375, Test Loss: 1.1215\n"
          ]
        },
        {
          "output_type": "stream",
          "name": "stderr",
          "text": [
            "Epoch 11/20: 100%|████████████████████████████████████████████████| 100/100 [01:15<00:00,  1.32it/s]\n",
            "Evaluating: 100%|███████████████████████████████████████████████████| 24/24 [00:14<00:00,  1.65it/s]\n"
          ]
        },
        {
          "output_type": "stream",
          "name": "stdout",
          "text": [
            "Epoch [11/20], Train Loss: 1.0955, Test Loss: 1.1186\n"
          ]
        },
        {
          "output_type": "stream",
          "name": "stderr",
          "text": [
            "Epoch 12/20: 100%|████████████████████████████████████████████████| 100/100 [01:15<00:00,  1.33it/s]\n",
            "Evaluating: 100%|███████████████████████████████████████████████████| 24/24 [00:14<00:00,  1.63it/s]\n"
          ]
        },
        {
          "output_type": "stream",
          "name": "stdout",
          "text": [
            "Epoch [12/20], Train Loss: 1.0654, Test Loss: 1.0994\n"
          ]
        },
        {
          "output_type": "stream",
          "name": "stderr",
          "text": [
            "Epoch 13/20: 100%|████████████████████████████████████████████████| 100/100 [01:14<00:00,  1.35it/s]\n",
            "Evaluating: 100%|███████████████████████████████████████████████████| 24/24 [00:14<00:00,  1.64it/s]\n"
          ]
        },
        {
          "output_type": "stream",
          "name": "stdout",
          "text": [
            "Epoch [13/20], Train Loss: 1.0249, Test Loss: 1.0993\n"
          ]
        },
        {
          "output_type": "stream",
          "name": "stderr",
          "text": [
            "Epoch 14/20: 100%|████████████████████████████████████████████████| 100/100 [01:15<00:00,  1.33it/s]\n",
            "Evaluating: 100%|███████████████████████████████████████████████████| 24/24 [00:14<00:00,  1.65it/s]\n"
          ]
        },
        {
          "output_type": "stream",
          "name": "stdout",
          "text": [
            "Epoch [14/20], Train Loss: 0.9964, Test Loss: 1.0851\n"
          ]
        },
        {
          "output_type": "stream",
          "name": "stderr",
          "text": [
            "Epoch 15/20: 100%|████████████████████████████████████████████████| 100/100 [01:16<00:00,  1.31it/s]\n",
            "Evaluating: 100%|███████████████████████████████████████████████████| 24/24 [00:14<00:00,  1.62it/s]\n"
          ]
        },
        {
          "output_type": "stream",
          "name": "stdout",
          "text": [
            "Epoch [15/20], Train Loss: 0.9651, Test Loss: 1.0899\n"
          ]
        },
        {
          "output_type": "stream",
          "name": "stderr",
          "text": [
            "Epoch 16/20: 100%|████████████████████████████████████████████████| 100/100 [01:15<00:00,  1.32it/s]\n",
            "Evaluating: 100%|███████████████████████████████████████████████████| 24/24 [00:14<00:00,  1.63it/s]\n"
          ]
        },
        {
          "output_type": "stream",
          "name": "stdout",
          "text": [
            "Epoch [16/20], Train Loss: 0.9333, Test Loss: 1.0824\n"
          ]
        },
        {
          "output_type": "stream",
          "name": "stderr",
          "text": [
            "Epoch 17/20: 100%|████████████████████████████████████████████████| 100/100 [01:15<00:00,  1.33it/s]\n",
            "Evaluating: 100%|███████████████████████████████████████████████████| 24/24 [00:14<00:00,  1.62it/s]\n"
          ]
        },
        {
          "output_type": "stream",
          "name": "stdout",
          "text": [
            "Epoch [17/20], Train Loss: 0.8967, Test Loss: 1.0788\n"
          ]
        },
        {
          "output_type": "stream",
          "name": "stderr",
          "text": [
            "Epoch 18/20: 100%|████████████████████████████████████████████████| 100/100 [01:14<00:00,  1.34it/s]\n",
            "Evaluating: 100%|███████████████████████████████████████████████████| 24/24 [00:14<00:00,  1.63it/s]\n"
          ]
        },
        {
          "output_type": "stream",
          "name": "stdout",
          "text": [
            "Epoch [18/20], Train Loss: 0.8761, Test Loss: 1.0768\n"
          ]
        },
        {
          "output_type": "stream",
          "name": "stderr",
          "text": [
            "Epoch 19/20: 100%|████████████████████████████████████████████████| 100/100 [01:16<00:00,  1.32it/s]\n",
            "Evaluating: 100%|███████████████████████████████████████████████████| 24/24 [00:14<00:00,  1.63it/s]\n"
          ]
        },
        {
          "output_type": "stream",
          "name": "stdout",
          "text": [
            "Epoch [19/20], Train Loss: 0.8492, Test Loss: 1.0775\n"
          ]
        },
        {
          "output_type": "stream",
          "name": "stderr",
          "text": [
            "Epoch 20/20: 100%|████████████████████████████████████████████████| 100/100 [01:16<00:00,  1.32it/s]\n",
            "Evaluating: 100%|███████████████████████████████████████████████████| 24/24 [00:14<00:00,  1.67it/s]\n"
          ]
        },
        {
          "output_type": "stream",
          "name": "stdout",
          "text": [
            "Epoch [20/20], Train Loss: 0.8238, Test Loss: 1.0869\n"
          ]
        },
        {
          "output_type": "display_data",
          "data": {
            "text/plain": [
              "<Figure size 1000x600 with 1 Axes>"
            ],
            "image/png": "[encoded data removed]"
          },
          "metadata": {}
        }
      ]
    },
    {
      "cell_type": "code",
      "source": [
        "torch.save(model.state_dict(), '/content/drive/MyDrive/CS4243/model/resnet_captcha_model_v3.pth')"
      ],
      "metadata": {
        "id": "4YSPj1GQRmEQ"
      },
      "id": "4YSPj1GQRmEQ",
      "execution_count": null,
      "outputs": []
    },
    {
      "cell_type": "markdown",
      "source": [
        "### Evaluating on train set"
      ],
      "metadata": {
        "id": "8TWvgaBo7Rv7"
      },
      "id": "8TWvgaBo7Rv7"
    },
    {
      "cell_type": "code",
      "source": [
        "train_dataset = CaptchaDataset(image_dir='/content/drive/MyDrive/CS4243/data/train', transform=transform_train)\n",
        "train_dataloader = DataLoader(train_dataset, batch_size=64, shuffle=True, collate_fn=collate_fn)"
      ],
      "metadata": {
        "id": "xaURvMfIG1V_"
      },
      "id": "xaURvMfIG1V_",
      "execution_count": null,
      "outputs": []
    },
    {
      "cell_type": "code",
      "source": [
        "model.eval()\n",
        "total = 0\n",
        "correct = 0\n",
        "for batch in tqdm(train_dataloader, desc=\"Evaluation Progress on train set\", ncols=100):\n",
        "    if batch[0] is None:\n",
        "        continue\n",
        "    batch_images, batch_labels = batch\n",
        "\n",
        "    # 将输入数据和标签发送到 GPU 或 CPU 上\n",
        "    outputs = model(batch_images.to(device))\n",
        "\n",
        "    # 获取每个样本的预测类别\n",
        "    predictions = torch.argmax(outputs, dim=1).cpu()\n",
        "\n",
        "    # 计算正确预测的数量\n",
        "    correct_predictions = (predictions == batch_labels).sum().item()\n",
        "    correct += correct_predictions\n",
        "    total += len(outputs)\n",
        "\n",
        "#\"signle segments acc:\"\n",
        "print(correct / total)"
      ],
      "metadata": {
        "colab": {
          "base_uri": "https://localhost:8080/"
        },
        "id": "wL18Uecg7gPb",
        "outputId": "a572fd95-6ecf-4324-f763-d622bcfd4a27"
      },
      "id": "wL18Uecg7gPb",
      "execution_count": null,
      "outputs": [
        {
          "output_type": "stream",
          "name": "stderr",
          "text": [
            "Evaluation Progress on train set: 100%|███████████████████████████| 100/100 [02:15<00:00,  1.35s/it]"
          ]
        },
        {
          "output_type": "stream",
          "name": "stdout",
          "text": [
            "0.8035570137749655\n"
          ]
        },
        {
          "output_type": "stream",
          "name": "stderr",
          "text": [
            "\n"
          ]
        }
      ]
    },
    {
      "cell_type": "markdown",
      "source": [
        "### Evaluating on test set"
      ],
      "metadata": {
        "id": "Hj0wchtr3iZ7"
      },
      "id": "Hj0wchtr3iZ7"
    },
    {
      "cell_type": "code",
      "source": [
        "test_dataset = CaptchaDataset(image_dir='/content/drive/MyDrive/CS4243/data/test', transform=transform_test)\n",
        "test_dataloader = DataLoader(test_dataset, batch_size=64, shuffle=False, collate_fn=collate_fn)"
      ],
      "metadata": {
        "id": "8Idp6wuPNt3J"
      },
      "id": "8Idp6wuPNt3J",
      "execution_count": null,
      "outputs": []
    },
    {
      "cell_type": "code",
      "execution_count": null,
      "id": "dcb47999-43f5-4884-a3c0-3385111ca84f",
      "metadata": {
        "tags": [],
        "colab": {
          "base_uri": "https://localhost:8080/"
        },
        "id": "dcb47999-43f5-4884-a3c0-3385111ca84f",
        "outputId": "5b816898-6db7-4635-c18f-e4b87ba93152"
      },
      "outputs": [
        {
          "output_type": "stream",
          "name": "stderr",
          "text": [
            "Evaluation Progress on test set: 100%|██████████████████████████████| 24/24 [00:14<00:00,  1.61it/s]"
          ]
        },
        {
          "output_type": "stream",
          "name": "stdout",
          "text": [
            "0.7532188841201717\n"
          ]
        },
        {
          "output_type": "stream",
          "name": "stderr",
          "text": [
            "\n"
          ]
        }
      ],
      "source": [
        "model.eval()\n",
        "total = 0\n",
        "correct = 0\n",
        "for batch in tqdm(test_dataloader, desc=\"Evaluation Progress on test set\", ncols=100):\n",
        "    if batch[0] is None:\n",
        "        continue\n",
        "    batch_images, batch_labels = batch\n",
        "\n",
        "    # 将输入数据和标签发送到 GPU 或 CPU 上\n",
        "    outputs = model(batch_images.to(device))\n",
        "\n",
        "    # 获取每个样本的预测类别\n",
        "    predictions = torch.argmax(outputs, dim=1).cpu()\n",
        "\n",
        "    # 计算正确预测的数量\n",
        "    correct_predictions = (predictions == batch_labels).sum().item()\n",
        "    correct += correct_predictions\n",
        "    total += len(outputs)\n",
        "\n",
        "#\"signle segments acc:\"\n",
        "print(correct / total)"
      ]
    },
    {
      "cell_type": "markdown",
      "source": [
        "### Prediction with our model"
      ],
      "metadata": {
        "id": "bxgfQeJS9RN3"
      },
      "id": "bxgfQeJS9RN3"
    },
    {
      "cell_type": "code",
      "source": [
        "import torch\n",
        "from PIL import Image\n",
        "import matplotlib.pyplot as plt\n",
        "\n",
        "# 初始化反向映射，方便从索引转换回字符\n",
        "index_label = {v: k for k, v in test_dataset.label_index.items()}  # 例如，{0: 'a', 1: 'b', ...}\n",
        "\n",
        "def predict_captcha(model, image_path, segmenter, transform, device):\n",
        "    # 使用 Segmenter 分割字符\n",
        "    segments = segmenter.segment_chars(image_path, plot=True)\n",
        "\n",
        "    # 如果分割失败，返回 None\n",
        "    if not segments:\n",
        "        return None\n",
        "\n",
        "    predicted_string = \"\"\n",
        "    model.eval()  # 切换模型到评估模式\n",
        "\n",
        "    fig, axes = plt.subplots(1, len(segments), figsize=(2 * len(segments), 2))\n",
        "\n",
        "    with torch.no_grad():  # 禁用梯度计算，以提高推理速度和节省内存\n",
        "        # 遍历分割出的字符图像\n",
        "        for i, segment in enumerate(segments):\n",
        "            # 转换 numpy 数组为 PIL 图像，然后应用 transform\n",
        "            char_img = Image.fromarray(segment[0])\n",
        "            padded_segment = transform_test(char_img)\n",
        "\n",
        "            # 将 Tensor 图像添加 batch 维度并移动到 GPU\n",
        "            char_img_tensor = padded_segment.unsqueeze(0).to(device)\n",
        "\n",
        "            # 模型预测\n",
        "            output = model(char_img_tensor)\n",
        "            _, predicted_index = output.max(1)  # 获取预测的类别索引\n",
        "\n",
        "            # 将类别索引转换回字符\n",
        "            predicted_char = index_label[predicted_index.item()]\n",
        "            predicted_string += predicted_char\n",
        "\n",
        "            # 显示转换后的图像和标签\n",
        "            axes[i].imshow(padded_segment.permute(1, 2, 0).cpu().numpy(), cmap='gray')\n",
        "\n",
        "\n",
        "    plt.show()\n",
        "    return predicted_string\n"
      ],
      "metadata": {
        "id": "g7jshsWb60A9"
      },
      "id": "g7jshsWb60A9",
      "execution_count": null,
      "outputs": []
    },
    {
      "cell_type": "code",
      "source": [
        "segmenter = Segmenter()"
      ],
      "metadata": {
        "id": "f8PJ6Iw17AvM"
      },
      "id": "f8PJ6Iw17AvM",
      "execution_count": null,
      "outputs": []
    },
    {
      "cell_type": "code",
      "source": [
        "predict_captcha(model, '/content/drive/MyDrive/CS4243/data/test/2flvu7n-0.png', segmenter, transform_test, device)"
      ],
      "metadata": {
        "colab": {
          "base_uri": "https://localhost:8080/",
          "height": 408
        },
        "id": "6cmU09qc61NK",
        "outputId": "048b70bb-22e1-4c3e-ee94-cfb99296e5e0"
      },
      "id": "6cmU09qc61NK",
      "execution_count": null,
      "outputs": [
        {
          "output_type": "display_data",
          "data": {
            "text/plain": [
              "<PIL.Image.Image image mode=RGB size=615x80>"
            ],
            "image/png": "[encoded data removed]",
            "image/jpeg": "[encoded data removed]"
          },
          "metadata": {}
        },
        {
          "output_type": "display_data",
          "data": {
            "text/plain": [
              "<PIL.Image.Image image mode=RGB size=615x80>"
            ],
            "image/png": "[encoded data removed]",
            "image/jpeg": "[encoded data removed]"
          },
          "metadata": {}
        },
        {
          "output_type": "display_data",
          "data": {
            "text/plain": [
              "<Figure size 1200x200 with 7 Axes>"
            ],
            "image/png": "[encoded data removed]"
          },
          "metadata": {}
        },
        {
          "output_type": "display_data",
          "data": {
            "text/plain": [
              "<Figure size 1400x200 with 7 Axes>"
            ],
            "image/png": "[encoded data removed]"
          },
          "metadata": {}
        },
        {
          "output_type": "execute_result",
          "data": {
            "text/plain": [
              "'2flvu7m'"
            ],
            "application/vnd.google.colaboratory.intrinsic+json": {
              "type": "string"
            }
          },
          "metadata": {},
          "execution_count": 22
        }
      ]
    },
    {
      "cell_type": "markdown",
      "source": [
        "## 测试segmentation"
      ],
      "metadata": {
        "id": "zT-yrVRaGDCT"
      },
      "id": "zT-yrVRaGDCT"
    }
  ],
  "metadata": {
    "kernelspec": {
      "display_name": "Python 3",
      "name": "python3"
    },
    "language_info": {
      "codemirror_mode": {
        "name": "ipython",
        "version": 3
      },
      "file_extension": ".py",
      "mimetype": "text/x-python",
      "name": "python",
      "nbconvert_exporter": "python",
      "pygments_lexer": "ipython3",
      "version": "3.9.2"
    },
    "colab": {
      "provenance": [],
      "gpuType": "T4",
      "include_colab_link": true
    },
    "accelerator": "GPU"
  },
  "nbformat": 4,
  "nbformat_minor": 5
}